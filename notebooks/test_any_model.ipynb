{
 "cells": [
  {
   "cell_type": "code",
   "execution_count": 1,
   "metadata": {
    "ExecuteTime": {
     "end_time": "2020-01-23T15:40:40.146768Z",
     "start_time": "2020-01-23T15:40:39.277344Z"
    }
   },
   "outputs": [],
   "source": [
    "%matplotlib inline\n",
    "import matplotlib.pyplot as plt\n",
    "\n",
    "import sys\n",
    "import numpy as np\n",
    "import torch\n",
    "\n",
    "sys.path.insert(0, '..')\n",
    "from isegm.utils import vis, exp\n",
    "\n",
    "from isegm.inference import utils\n",
    "from isegm.inference.evaluation import evaluate_dataset, evaluate_sample\n",
    "\n",
    "device = torch.device('cuda:0')\n",
    "cfg = exp.load_config_file('../config.yml', return_edict=True)"
   ]
  },
  {
   "cell_type": "markdown",
   "metadata": {},
   "source": [
    "### Init dataset"
   ]
  },
  {
   "cell_type": "code",
   "execution_count": 2,
   "metadata": {
    "ExecuteTime": {
     "end_time": "2020-01-23T15:40:40.540120Z",
     "start_time": "2020-01-23T15:40:40.535379Z"
    }
   },
   "outputs": [],
   "source": [
    "# Possible choices: 'GrabCut', 'Berkeley', 'DAVIS', 'COCO_MVal', 'SBD'\n",
    "DATASET = 'Lawine'\n",
    "dataset = utils.get_dataset(DATASET, cfg)\n",
    "\n"
   ]
  },
  {
   "cell_type": "code",
   "execution_count": 3,
   "metadata": {},
   "outputs": [
    {
     "name": "stdout",
     "output_type": "stream",
     "text": [
      "['20200209100040_30.jpg', '20200201100501_5.jpg', '20211231090038_41.jpg', '20200209100040_26.jpg', '20200201100501_4.jpg', '20200209100040_24.jpg', 'cam2_20220303_0900-id242_8.jpg', 'cam2_20220303_0900-id242_9.jpg', 'cam2_20220306_1530-id242_46.jpg', '20210201120002_32.jpg', '20200209100040_27.jpg', '20210201120002_33.jpg', '20210201_0900-id252_16.jpg', '20211231090038_40.jpg', '20211231090038_37.jpg', '20200201100501_1.jpg', 'cam2_20220306_1530-id242_43.jpg', '20211231090038_39.jpg', '20200201100501_6.jpg', '20211214080032_21.jpg', '20200209100040_29.jpg', 'Thumbs.db', '20200201100501_2.jpg', '20210201_0900-id252_13.jpg', '20200201100501_3.jpg', 'cam2_20220303_0900-id242_10.jpg', '20220225_1135-id135_22.jpg', '20210201_0900-id252_15.jpg', 'cam2_20220303_0900-id242_7.jpg', '20200209100040_28.jpg', '20210201_0900-id252_14.jpg', '20210201120002_35.jpg', 'cam2_20220306_1530-id242_48.jpg', '20210201_0900-id252_12.jpg', '20200209100040_25.jpg', 'cam2_20220306_1530-id242_42.jpg', '20210122090040_23.jpg', '20210201_0900-id252_20.jpg', 'cam2_20220303_0900-id242_11.jpg']\n",
      "['20200209100040_30.png', '20200201100501_5.png', '20211231090038_41.png', '20200209100040_26.png', '20200201100501_4.png', '20200209100040_24.png', 'cam2_20220303_0900-id242_8.png', 'cam2_20220303_0900-id242_9.png', 'cam2_20220306_1530-id242_46.png', '20210201120002_32.png', '20200209100040_27.png', '20210201120002_33.png', '20210201_0900-id252_16.png', '20211231090038_40.png', '20211231090038_37.png', '20200201100501_1.png', 'cam2_20220306_1530-id242_43.png', '20211231090038_39.png', '20200201100501_6.png', '20211214080032_21.png', '20200209100040_29.png', 'Thumbs.db', '20200201100501_2.png', '20210201_0900-id252_13.png', '20200201100501_3.png', 'cam2_20220303_0900-id242_10.png', '20220225_1135-id135_22.png', '20210201_0900-id252_15.png', 'cam2_20220303_0900-id242_7.png', '20200209100040_28.png', '20210201_0900-id252_14.png', '20210201120002_35.png', 'cam2_20220306_1530-id242_48.png', '20210201_0900-id252_12.png', '20200209100040_25.png', 'cam2_20220306_1530-id242_42.png', '20210122090040_23.png', '20210201_0900-id252_20.png', 'cam2_20220303_0900-id242_11.png']\n",
      "39\n",
      "39\n"
     ]
    }
   ],
   "source": [
    "print(dataset.dataset_samples)\n",
    "print(dataset.masks_samples)\n",
    "\n",
    "print(len(dataset.dataset_samples))\n",
    "print(len(dataset.masks_samples))"
   ]
  },
  {
   "cell_type": "code",
   "execution_count": 13,
   "metadata": {},
   "outputs": [
    {
     "name": "stdout",
     "output_type": "stream",
     "text": [
      "../datasets/Lawine_3_instance/masks/20200209100040_30.png\n"
     ]
    }
   ],
   "source": [
    "print(mask_path)"
   ]
  },
  {
   "cell_type": "code",
   "execution_count": 16,
   "metadata": {},
   "outputs": [
    {
     "data": {
      "text/plain": [
       "(4000, 6000)"
      ]
     },
     "execution_count": 16,
     "metadata": {},
     "output_type": "execute_result"
    }
   ],
   "source": [
    "import cv2\n",
    "index = 0\n",
    "image_name = dataset.dataset_samples[index]\n",
    "mask_name = dataset.masks_samples[index]\n",
    "image_path = str(dataset._images_path / image_name)\n",
    "mask_path = str(dataset._masks_path / mask_name)\n",
    "\n",
    "image = cv2.imread(image_path)\n",
    "image = cv2.cvtColor(image, cv2.COLOR_BGR2RGB)\n",
    "instances_mask = cv2.imread(mask_path)[:, :, 0].astype(np.int32)\n",
    "\n",
    "instances_mask.shape"
   ]
  },
  {
   "cell_type": "markdown",
   "metadata": {},
   "source": [
    "### Init model"
   ]
  },
  {
   "cell_type": "code",
   "execution_count": null,
   "metadata": {
    "ExecuteTime": {
     "end_time": "2020-01-23T15:40:46.953312Z",
     "start_time": "2020-01-23T15:40:41.632849Z"
    }
   },
   "outputs": [],
   "source": [
    "from isegm.inference.predictors import get_predictor\n",
    "\n",
    "EVAL_MAX_CLICKS = 20\n",
    "MODEL_THRESH = 0.49\n",
    "\n",
    "checkpoint_path = utils.find_checkpoint(cfg.INTERACTIVE_MODELS_PATH, 'coco_lvis_h18s_itermask')\n",
    "model = utils.load_is_model(checkpoint_path, device)\n",
    "\n",
    "# Possible choices: 'NoBRS', 'f-BRS-A', 'f-BRS-B', 'f-BRS-C', 'RGB-BRS', 'DistMap-BRS'\n",
    "brs_mode = 'f-BRS-B'\n",
    "predictor = get_predictor(model, brs_mode, device, prob_thresh=MODEL_THRESH)"
   ]
  },
  {
   "cell_type": "markdown",
   "metadata": {},
   "source": [
    "### Dataset evaluation"
   ]
  },
  {
   "cell_type": "code",
   "execution_count": null,
   "metadata": {
    "ExecuteTime": {
     "end_time": "2020-01-23T15:41:05.430871Z",
     "start_time": "2020-01-23T15:40:46.956196Z"
    }
   },
   "outputs": [],
   "source": [
    "TARGET_IOU = 0.9\n",
    "\n",
    "all_ious, elapsed_time = evaluate_dataset(dataset, predictor, pred_thr=MODEL_THRESH, \n",
    "                                          max_iou_thr=TARGET_IOU, max_clicks=EVAL_MAX_CLICKS)\n",
    "mean_spc, mean_spi = utils.get_time_metrics(all_ious, elapsed_time)\n",
    "noc_list, over_max_list = utils.compute_noc_metric(all_ious,\n",
    "                                                   iou_thrs=[0.8, 0.85, 0.9],\n",
    "                                                   max_clicks=EVAL_MAX_CLICKS)\n",
    "\n",
    "header, table_row = utils.get_results_table(noc_list, over_max_list, brs_mode, DATASET,\n",
    "                                            mean_spc, elapsed_time, EVAL_MAX_CLICKS)\n",
    "print(header)\n",
    "print(table_row)"
   ]
  },
  {
   "cell_type": "markdown",
   "metadata": {},
   "source": [
    "### Single sample eval"
   ]
  },
  {
   "cell_type": "code",
   "execution_count": null,
   "metadata": {
    "ExecuteTime": {
     "end_time": "2019-12-04T10:53:23.817566Z",
     "start_time": "2019-12-04T10:53:22.592826Z"
    }
   },
   "outputs": [],
   "source": [
    "sample_id = 12\n",
    "TARGET_IOU = 0.95\n",
    "\n",
    "sample = dataset.get_sample(sample_id)\n",
    "gt_mask = sample.gt_mask\n",
    "\n",
    "clicks_list, ious_arr, pred = evaluate_sample(sample.image, gt_mask, predictor, \n",
    "                                              pred_thr=MODEL_THRESH, \n",
    "                                              max_iou_thr=TARGET_IOU, max_clicks=EVAL_MAX_CLICKS)\n",
    "\n",
    "pred_mask = pred > MODEL_THRESH\n",
    "draw = vis.draw_with_blend_and_clicks(sample.image, mask=pred_mask, clicks_list=clicks_list)\n",
    "draw = np.concatenate((draw,\n",
    "    255 * pred_mask[:, :, np.newaxis].repeat(3, axis=2),\n",
    "    255 * (gt_mask > 0)[:, :, np.newaxis].repeat(3, axis=2)\n",
    "), axis=1)\n",
    "\n",
    "print(ious_arr)\n",
    "\n",
    "plt.figure(figsize=(20, 30))\n",
    "plt.imshow(draw)\n",
    "plt.show()"
   ]
  }
 ],
 "metadata": {
  "kernelspec": {
   "display_name": "Python 3.6.13 ('RITM')",
   "language": "python",
   "name": "python3"
  },
  "language_info": {
   "codemirror_mode": {
    "name": "ipython",
    "version": 3
   },
   "file_extension": ".py",
   "mimetype": "text/x-python",
   "name": "python",
   "nbconvert_exporter": "python",
   "pygments_lexer": "ipython3",
   "version": "3.6.13"
  },
  "toc": {
   "base_numbering": 1,
   "nav_menu": {},
   "number_sections": true,
   "sideBar": true,
   "skip_h1_title": false,
   "title_cell": "Table of Contents",
   "title_sidebar": "Contents",
   "toc_cell": false,
   "toc_position": {
    "height": "calc(100% - 180px)",
    "left": "10px",
    "top": "150px",
    "width": "294px"
   },
   "toc_section_display": true,
   "toc_window_display": true
  },
  "vscode": {
   "interpreter": {
    "hash": "9689bafa9a4bd8d85b7b7b343df635f79ee6348577cef067506df60ddd6c7b6f"
   }
  }
 },
 "nbformat": 4,
 "nbformat_minor": 2
}
